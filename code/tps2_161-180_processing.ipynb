{
 "cells": [
  {
   "cell_type": "code",
   "execution_count": 1,
   "metadata": {},
   "outputs": [],
   "source": [
    "import pandas as pd\n",
    "import numpy as np\n",
    "import json\n",
    "from datetime import datetime"
   ]
  },
  {
   "cell_type": "code",
   "execution_count": 2,
   "metadata": {},
   "outputs": [],
   "source": [
    "def tps2_181(inputfile,outputfile):\n",
    "    yourData = []\n",
    "    with open(inputfile) as inputData:\n",
    "        for line in inputData:\n",
    "            try:\n",
    "                yourData.append(json.loads(line.rstrip('\\n')))\n",
    "            except ValueError:\n",
    "                print(\"Skipping invalid line {0}\").format(repr(line))\n",
    "    \n",
    "    df = pd.DataFrame(yourData)\n",
    "    \n",
    "    temp=[]\n",
    "    localtime = df.localtime\n",
    "    for i in range(len(localtime)):\n",
    "        temp.append(localtime[i][:-4])\n",
    "    \n",
    "    df['localtime'] = temp\n",
    "    \n",
    "    distinct_mac = df.ClientMacAddr.value_counts()\n",
    "    temp = distinct_mac[(distinct_mac < 2000) & (distinct_mac > 50)]\n",
    "    temp1 = temp.index.tolist()\n",
    "    \n",
    "    elapse = []\n",
    "    for i in range(len(temp1)):\n",
    "        a = df[df['ClientMacAddr'] == temp1[i]]\n",
    "        d = a.localtime.max()\n",
    "        f = a.localtime.min()\n",
    "        fmt1 = '%Y-%m-%d %H:%M:%S.%f'\n",
    "        fmt2 = '%Y-%m-%d %H:%M:%S'\n",
    "        try:\n",
    "            tstamp1 = datetime.strptime(d, fmt1)\n",
    "            tstamp2 = datetime.strptime(f, fmt1)\n",
    "            td = tstamp1 - tstamp2\n",
    "            td_hours = td.total_seconds() / 3600\n",
    "            elapse.append(td_hours)\n",
    "        except:\n",
    "            try:\n",
    "                tstamp1 = datetime.strptime(d, fmt2)\n",
    "                tstamp2 = datetime.strptime(f, fmt1)\n",
    "                td = tstamp1 - tstamp2\n",
    "                td_hours = td.total_seconds() / 3600\n",
    "                elapse.append(td_hours)\n",
    "            except:\n",
    "                try:\n",
    "                    tstamp1 = datetime.strptime(d, fmt1)\n",
    "                    tstamp2 = datetime.strptime(f, fmt2)\n",
    "                    td = tstamp1 - tstamp2\n",
    "                    td_hours = td.total_seconds() / 3600\n",
    "                    elapse.append(td_hours)\n",
    "                except:\n",
    "                    tstamp1 = datetime.strptime(d, fmt2)\n",
    "                    tstamp2 = datetime.strptime(f, fmt2)\n",
    "                    td = tstamp1 - tstamp2\n",
    "                    td_hours = td.total_seconds() / 3600\n",
    "                    elapse.append(td_hours)\n",
    "                    \n",
    "    df_time = pd.DataFrame()\n",
    "    df_time['distinct_mac'] = temp1\n",
    "    df_time['elapse_time'] = elapse\n",
    "    \n",
    "    temp3 = df_time[(df_time['elapse_time']<5) & (df_time['elapse_time']> 0.5)]\n",
    "    mac = temp3.distinct_mac.tolist()\n",
    "    tps2_181 = df[df['ClientMacAddr'].isin(mac)]\n",
    "    tps2_181 = tps2_181.drop_duplicates(subset=None, keep='first', inplace=False)\n",
    "    tps2_181.to_csv(outputfile, encoding='utf-8') #.csv"
   ]
  },
  {
   "cell_type": "code",
   "execution_count": 3,
   "metadata": {},
   "outputs": [
    {
     "name": "stdout",
     "output_type": "stream",
     "text": [
      "Wall time: 6h 51min 33s\n"
     ]
    }
   ],
   "source": [
    "%%time\n",
    "for i in range(181,212):\n",
    "    tps2_181('tps2000000000'+str(i),'tps2_'+str(i)+'.csv')"
   ]
  },
  {
   "cell_type": "code",
   "execution_count": null,
   "metadata": {},
   "outputs": [],
   "source": []
  }
 ],
 "metadata": {
  "kernelspec": {
   "display_name": "Python 3",
   "language": "python",
   "name": "python3"
  },
  "language_info": {
   "codemirror_mode": {
    "name": "ipython",
    "version": 3
   },
   "file_extension": ".py",
   "mimetype": "text/x-python",
   "name": "python",
   "nbconvert_exporter": "python",
   "pygments_lexer": "ipython3",
   "version": "3.7.4"
  }
 },
 "nbformat": 4,
 "nbformat_minor": 2
}
