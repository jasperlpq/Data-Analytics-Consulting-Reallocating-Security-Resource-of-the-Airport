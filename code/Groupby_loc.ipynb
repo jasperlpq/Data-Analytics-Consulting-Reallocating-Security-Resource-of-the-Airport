{
 "cells": [
  {
   "cell_type": "code",
   "execution_count": 2,
   "metadata": {},
   "outputs": [],
   "source": [
    "import numpy as np\n",
    "import pandas as pd\n",
    "from datetime import datetime"
   ]
  },
  {
   "cell_type": "markdown",
   "metadata": {},
   "source": [
    "## Location Filter"
   ]
  },
  {
   "cell_type": "code",
   "execution_count": 73,
   "metadata": {},
   "outputs": [],
   "source": [
    "data = pd.read_csv('df_final_120_130.csv', low_memory=False)\n",
    "\n",
    "data1 = data.drop(['Unnamed: 0','Unnamed: 0.1'],axis = 1)\n",
    "data1 = data1.dropna()"
   ]
  },
  {
   "cell_type": "code",
   "execution_count": 74,
   "metadata": {},
   "outputs": [],
   "source": [
    "data1[['lat','lng']] = data1[['lat','lng']].apply(pd.to_numeric, errors = 'coerce')\n",
    "data_domestic =  data1[(data1[\"lat\"] > -22.814515) & (data1[\"lat\"]< -22.814147) & \n",
    "                       (data1.lng >-43.247567) & (data1.lng < -43.247118)]\n"
   ]
  },
  {
   "cell_type": "code",
   "execution_count": 75,
   "metadata": {},
   "outputs": [],
   "source": [
    "df = data_domestic.reset_index(drop = True)"
   ]
  },
  {
   "cell_type": "code",
   "execution_count": 76,
   "metadata": {},
   "outputs": [
    {
     "data": {
      "text/plain": [
       "(15733, 7)"
      ]
     },
     "execution_count": 76,
     "metadata": {},
     "output_type": "execute_result"
    }
   ],
   "source": [
    "df.shape"
   ]
  },
  {
   "cell_type": "markdown",
   "metadata": {},
   "source": [
    "*****"
   ]
  },
  {
   "cell_type": "markdown",
   "metadata": {},
   "source": [
    "## Groupby Time Interval 30min"
   ]
  },
  {
   "cell_type": "code",
   "execution_count": 77,
   "metadata": {},
   "outputs": [],
   "source": [
    "df[\"localtime\"] = pd.to_datetime(df[\"localtime\"])\n",
    "df_temp = df.drop_duplicates(subset =\"ClientMacAddr\", \n",
    "                     keep = 'first', inplace = False)\n",
    "df_count = df_temp.groupby(pd.Grouper(key='localtime', freq='30min')).count()"
   ]
  },
  {
   "cell_type": "code",
   "execution_count": 79,
   "metadata": {},
   "outputs": [
    {
     "data": {
      "text/plain": [
       "Index(['Unnamed: 0.1.1', 'Building', 'Level', 'ClientMacAddr', 'lat', 'lng'], dtype='object')"
      ]
     },
     "execution_count": 79,
     "metadata": {},
     "output_type": "execute_result"
    }
   ],
   "source": [
    "df_count.columns"
   ]
  },
  {
   "cell_type": "code",
   "execution_count": 80,
   "metadata": {
    "scrolled": true
   },
   "outputs": [
    {
     "data": {
      "text/html": [
       "<div>\n",
       "<style scoped>\n",
       "    .dataframe tbody tr th:only-of-type {\n",
       "        vertical-align: middle;\n",
       "    }\n",
       "\n",
       "    .dataframe tbody tr th {\n",
       "        vertical-align: top;\n",
       "    }\n",
       "\n",
       "    .dataframe thead th {\n",
       "        text-align: right;\n",
       "    }\n",
       "</style>\n",
       "<table border=\"1\" class=\"dataframe\">\n",
       "  <thead>\n",
       "    <tr style=\"text-align: right;\">\n",
       "      <th></th>\n",
       "      <th>Distinct_Macid</th>\n",
       "    </tr>\n",
       "    <tr>\n",
       "      <th>localtime</th>\n",
       "      <th></th>\n",
       "    </tr>\n",
       "  </thead>\n",
       "  <tbody>\n",
       "    <tr>\n",
       "      <th>2019-08-01 02:30:00</th>\n",
       "      <td>10</td>\n",
       "    </tr>\n",
       "    <tr>\n",
       "      <th>2019-08-01 03:00:00</th>\n",
       "      <td>50</td>\n",
       "    </tr>\n",
       "    <tr>\n",
       "      <th>2019-08-01 03:30:00</th>\n",
       "      <td>110</td>\n",
       "    </tr>\n",
       "    <tr>\n",
       "      <th>2019-08-01 04:00:00</th>\n",
       "      <td>119</td>\n",
       "    </tr>\n",
       "    <tr>\n",
       "      <th>2019-08-01 04:30:00</th>\n",
       "      <td>131</td>\n",
       "    </tr>\n",
       "    <tr>\n",
       "      <th>2019-08-01 05:00:00</th>\n",
       "      <td>98</td>\n",
       "    </tr>\n",
       "    <tr>\n",
       "      <th>2019-08-01 05:30:00</th>\n",
       "      <td>127</td>\n",
       "    </tr>\n",
       "    <tr>\n",
       "      <th>2019-08-01 06:00:00</th>\n",
       "      <td>188</td>\n",
       "    </tr>\n",
       "    <tr>\n",
       "      <th>2019-08-01 06:30:00</th>\n",
       "      <td>175</td>\n",
       "    </tr>\n",
       "    <tr>\n",
       "      <th>2019-08-01 07:00:00</th>\n",
       "      <td>182</td>\n",
       "    </tr>\n",
       "    <tr>\n",
       "      <th>2019-08-01 07:30:00</th>\n",
       "      <td>136</td>\n",
       "    </tr>\n",
       "    <tr>\n",
       "      <th>2019-08-01 08:00:00</th>\n",
       "      <td>132</td>\n",
       "    </tr>\n",
       "    <tr>\n",
       "      <th>2019-08-01 08:30:00</th>\n",
       "      <td>141</td>\n",
       "    </tr>\n",
       "    <tr>\n",
       "      <th>2019-08-01 09:00:00</th>\n",
       "      <td>84</td>\n",
       "    </tr>\n",
       "    <tr>\n",
       "      <th>2019-08-01 09:30:00</th>\n",
       "      <td>104</td>\n",
       "    </tr>\n",
       "    <tr>\n",
       "      <th>2019-08-01 10:00:00</th>\n",
       "      <td>119</td>\n",
       "    </tr>\n",
       "    <tr>\n",
       "      <th>2019-08-01 10:30:00</th>\n",
       "      <td>141</td>\n",
       "    </tr>\n",
       "    <tr>\n",
       "      <th>2019-08-01 11:00:00</th>\n",
       "      <td>142</td>\n",
       "    </tr>\n",
       "    <tr>\n",
       "      <th>2019-08-01 11:30:00</th>\n",
       "      <td>115</td>\n",
       "    </tr>\n",
       "    <tr>\n",
       "      <th>2019-08-01 12:00:00</th>\n",
       "      <td>67</td>\n",
       "    </tr>\n",
       "    <tr>\n",
       "      <th>2019-08-01 12:30:00</th>\n",
       "      <td>27</td>\n",
       "    </tr>\n",
       "  </tbody>\n",
       "</table>\n",
       "</div>"
      ],
      "text/plain": [
       "                     Distinct_Macid\n",
       "localtime                          \n",
       "2019-08-01 02:30:00              10\n",
       "2019-08-01 03:00:00              50\n",
       "2019-08-01 03:30:00             110\n",
       "2019-08-01 04:00:00             119\n",
       "2019-08-01 04:30:00             131\n",
       "2019-08-01 05:00:00              98\n",
       "2019-08-01 05:30:00             127\n",
       "2019-08-01 06:00:00             188\n",
       "2019-08-01 06:30:00             175\n",
       "2019-08-01 07:00:00             182\n",
       "2019-08-01 07:30:00             136\n",
       "2019-08-01 08:00:00             132\n",
       "2019-08-01 08:30:00             141\n",
       "2019-08-01 09:00:00              84\n",
       "2019-08-01 09:30:00             104\n",
       "2019-08-01 10:00:00             119\n",
       "2019-08-01 10:30:00             141\n",
       "2019-08-01 11:00:00             142\n",
       "2019-08-01 11:30:00             115\n",
       "2019-08-01 12:00:00              67\n",
       "2019-08-01 12:30:00              27"
      ]
     },
     "execution_count": 80,
     "metadata": {},
     "output_type": "execute_result"
    }
   ],
   "source": [
    "df_discount = df_count.drop(['Building','Level','lat','lng','Unnamed: 0.1.1'],axis=1)\n",
    "df_discount= df_discount.rename(columns = {'ClientMacAddr' : 'Distinct_Macid'})\n",
    "df_discount"
   ]
  },
  {
   "cell_type": "code",
   "execution_count": 81,
   "metadata": {},
   "outputs": [],
   "source": [
    "# df_discount_10_25to11_11\n",
    "df_discount.to_csv('df_discount_08_01.csv')"
   ]
  }
 ],
 "metadata": {
  "kernelspec": {
   "display_name": "Python 3",
   "language": "python",
   "name": "python3"
  },
  "language_info": {
   "codemirror_mode": {
    "name": "ipython",
    "version": 3
   },
   "file_extension": ".py",
   "mimetype": "text/x-python",
   "name": "python",
   "nbconvert_exporter": "python",
   "pygments_lexer": "ipython3",
   "version": "3.7.3"
  }
 },
 "nbformat": 4,
 "nbformat_minor": 4
}
